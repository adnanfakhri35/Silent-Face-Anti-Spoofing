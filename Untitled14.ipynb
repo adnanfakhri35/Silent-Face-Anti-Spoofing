{
  "nbformat": 4,
  "nbformat_minor": 0,
  "metadata": {
    "colab": {
      "provenance": [],
      "authorship_tag": "ABX9TyN68C0hNpG+e1Rh6xBevZrj",
      "include_colab_link": true
    },
    "kernelspec": {
      "name": "python3",
      "display_name": "Python 3"
    },
    "language_info": {
      "name": "python"
    }
  },
  "cells": [
    {
      "cell_type": "markdown",
      "metadata": {
        "id": "view-in-github",
        "colab_type": "text"
      },
      "source": [
        "<a href=\"https://colab.research.google.com/github/adnanfakhri35/Silent-Face-Anti-Spoofing/blob/master/Untitled14.ipynb\" target=\"_parent\"><img src=\"https://colab.research.google.com/assets/colab-badge.svg\" alt=\"Open In Colab\"/></a>"
      ]
    },
    {
      "cell_type": "code",
      "source": [
        "!git clone https://github.com/adnanfakhri35/Silent-Face-Anti-Spoofing"
      ],
      "metadata": {
        "id": "ciY3masD5zYP",
        "colab": {
          "base_uri": "https://localhost:8080/"
        },
        "outputId": "ef4891e6-d54a-47d0-8bd1-0dcfd4d40033"
      },
      "execution_count": 1,
      "outputs": [
        {
          "output_type": "stream",
          "name": "stdout",
          "text": [
            "Cloning into 'Silent-Face-Anti-Spoofing'...\n",
            "remote: Enumerating objects: 367, done.\u001b[K\n",
            "remote: Counting objects: 100% (95/95), done.\u001b[K\n",
            "remote: Compressing objects: 100% (19/19), done.\u001b[K\n",
            "remote: Total 367 (delta 79), reused 76 (delta 76), pack-reused 272 (from 2)\u001b[K\n",
            "Receiving objects: 100% (367/367), 26.04 MiB | 20.77 MiB/s, done.\n",
            "Resolving deltas: 100% (161/161), done.\n"
          ]
        }
      ]
    },
    {
      "cell_type": "code",
      "source": [
        "!pip install -r /content/Silent-Face-Anti-Spoofing/requirements.txt"
      ],
      "metadata": {
        "colab": {
          "base_uri": "https://localhost:8080/"
        },
        "id": "UgQ3WlkFSZyJ",
        "outputId": "fda88d36-1b31-4c4a-f2a7-de567977727c"
      },
      "execution_count": 3,
      "outputs": [
        {
          "output_type": "stream",
          "name": "stdout",
          "text": [
            "Collecting easydict==1.9 (from -r /content/Silent-Face-Anti-Spoofing/requirements.txt (line 1))\n",
            "  Downloading easydict-1.9.tar.gz (6.4 kB)\n",
            "  Preparing metadata (setup.py) ... \u001b[?25l\u001b[?25hdone\n",
            "Collecting numpy==1.17.0 (from -r /content/Silent-Face-Anti-Spoofing/requirements.txt (line 2))\n",
            "  Downloading numpy-1.17.0.zip (6.5 MB)\n",
            "\u001b[2K     \u001b[90m━━━━━━━━━━━━━━━━━━━━━━━━━━━━━━━━━━━━━━━━\u001b[0m \u001b[32m6.5/6.5 MB\u001b[0m \u001b[31m24.4 MB/s\u001b[0m eta \u001b[36m0:00:00\u001b[0m\n",
            "\u001b[?25h  Preparing metadata (setup.py) ... \u001b[?25l\u001b[?25hdone\n",
            "Collecting tqdm==4.31.1 (from -r /content/Silent-Face-Anti-Spoofing/requirements.txt (line 3))\n",
            "  Downloading tqdm-4.31.1-py2.py3-none-any.whl.metadata (38 kB)\n",
            "\u001b[31mERROR: Ignored the following yanked versions: 0.1.6, 0.1.7, 0.1.8, 0.1.9, 0.2.0, 0.2.1, 0.2.2, 0.2.2.post2, 0.2.2.post3, 0.15.0\u001b[0m\u001b[31m\n",
            "\u001b[0m\u001b[31mERROR: Ignored the following versions that require a different python version: 1.21.2 Requires-Python >=3.7,<3.11; 1.21.3 Requires-Python >=3.7,<3.11; 1.21.4 Requires-Python >=3.7,<3.11; 1.21.5 Requires-Python >=3.7,<3.11; 1.21.6 Requires-Python >=3.7,<3.11\u001b[0m\u001b[31m\n",
            "\u001b[0m\u001b[31mERROR: Could not find a version that satisfies the requirement torchvision==0.4.0 (from versions: 0.15.1, 0.15.2, 0.16.0, 0.16.1, 0.16.2, 0.17.0, 0.17.1, 0.17.2, 0.18.0, 0.18.1, 0.19.0, 0.19.1, 0.20.0, 0.20.1, 0.21.0)\u001b[0m\u001b[31m\n",
            "\u001b[0m\u001b[31mERROR: No matching distribution found for torchvision==0.4.0\u001b[0m\u001b[31m\n",
            "\u001b[0m"
          ]
        }
      ]
    },
    {
      "cell_type": "code",
      "source": [
        "!python /content/Silent-Face-Anti-Spoofing/datasets/unzip.py"
      ],
      "metadata": {
        "colab": {
          "base_uri": "https://localhost:8080/"
        },
        "id": "cM5pWbNfTIBq",
        "outputId": "90938433-97ea-411e-9852-39bc50eee9e4"
      },
      "execution_count": 4,
      "outputs": [
        {
          "output_type": "stream",
          "name": "stdout",
          "text": [
            "usage: unzip.py [-h] [-o OUTPUT] zip_file\n",
            "unzip.py: error: the following arguments are required: zip_file\n"
          ]
        }
      ]
    },
    {
      "cell_type": "code",
      "source": [
        "!python /content/Silent-Face-Anti-Spoofing/datasets/unzip.py /content/Silent-Face-Anti-Spoofing/datasets/OULU-NPU_Postprocessed_valid.zip -o /content/Silent-Face-Anti-Spoofing/datasets/validation_Data"
      ],
      "metadata": {
        "colab": {
          "base_uri": "https://localhost:8080/"
        },
        "id": "4yLhDIu9WRl2",
        "outputId": "e0a79219-1380-4b97-c126-29169784cc92"
      },
      "execution_count": 12,
      "outputs": [
        {
          "output_type": "stream",
          "name": "stdout",
          "text": [
            "Successfully extracted 1144 images to /content/Silent-Face-Anti-Spoofing/datasets/validation_Data\n"
          ]
        }
      ]
    },
    {
      "cell_type": "code",
      "source": [
        "!python /content/Silent-Face-Anti-Spoofing/train.py --device_ids 1"
      ],
      "metadata": {
        "colab": {
          "base_uri": "https://localhost:8080/"
        },
        "id": "bWapZTuYWgba",
        "outputId": "d541a9f7-e621-4a16-a89e-ae5a8987550b"
      },
      "execution_count": 18,
      "outputs": [
        {
          "output_type": "stream",
          "name": "stdout",
          "text": [
            "/usr/local/lib/python3.11/dist-packages/torch/utils/data/dataloader.py:617: UserWarning: This DataLoader will create 16 worker processes in total. Our suggested max number of worker in current system is 2, which is smaller than what this DataLoader is going to create. Please be aware that excessive worker creation might get DataLoader running slow or even freeze, lower the worker number to avoid potential slowness/freeze if necessary.\n",
            "  warnings.warn(\n",
            "lr:  0.1\n",
            "epochs:  25\n",
            "milestones:  [10, 15, 22]\n",
            "epoch 0 started\n",
            "/usr/local/lib/python3.11/dist-packages/torch/optim/lr_scheduler.py:595: UserWarning: To get the last learning rate computed by the scheduler, please use `get_last_lr()`.\n",
            "  _warn_get_lr_called_within_step(self)\n",
            "lr:  [0.1]\n",
            "  0% 0/2 [00:00<?, ?it/s]/content/Silent-Face-Anti-Spoofing/src/data_io/functional.py:72: UserWarning: TypedStorage is deprecated. It will be removed in the future and UntypedStorage will be the only storage class. This should only matter to you if you are using storages directly.  To access UntypedStorage directly, use tensor.untyped_storage() instead of tensor.storage()\n",
            "  img = torch.ByteTensor(torch.ByteStorage.from_buffer(pic.tobytes()))\n",
            "/content/Silent-Face-Anti-Spoofing/src/data_io/functional.py:72: UserWarning: TypedStorage is deprecated. It will be removed in the future and UntypedStorage will be the only storage class. This should only matter to you if you are using storages directly.  To access UntypedStorage directly, use tensor.untyped_storage() instead of tensor.storage()\n",
            "  img = torch.ByteTensor(torch.ByteStorage.from_buffer(pic.tobytes()))\n",
            "100% 2/2 [03:37<00:00, 108.50s/it]\n",
            "epoch 1 started\n",
            "lr:  [0.1]\n",
            "  0% 0/2 [00:00<?, ?it/s]/content/Silent-Face-Anti-Spoofing/src/data_io/functional.py:72: UserWarning: TypedStorage is deprecated. It will be removed in the future and UntypedStorage will be the only storage class. This should only matter to you if you are using storages directly.  To access UntypedStorage directly, use tensor.untyped_storage() instead of tensor.storage()\n",
            "  img = torch.ByteTensor(torch.ByteStorage.from_buffer(pic.tobytes()))\n",
            "/content/Silent-Face-Anti-Spoofing/src/data_io/functional.py:72: UserWarning: TypedStorage is deprecated. It will be removed in the future and UntypedStorage will be the only storage class. This should only matter to you if you are using storages directly.  To access UntypedStorage directly, use tensor.untyped_storage() instead of tensor.storage()\n",
            "  img = torch.ByteTensor(torch.ByteStorage.from_buffer(pic.tobytes()))\n",
            "^C\n"
          ]
        }
      ]
    },
    {
      "cell_type": "code",
      "source": [
        "!python /content/Silent-Face-Anti-Spoofing/fix_collections.py"
      ],
      "metadata": {
        "colab": {
          "base_uri": "https://localhost:8080/"
        },
        "id": "_DY3QLTsYAUj",
        "outputId": "c04e190a-0fcf-4fee-85f3-35dfa19efcde"
      },
      "execution_count": 17,
      "outputs": [
        {
          "output_type": "stream",
          "name": "stdout",
          "text": [
            "Fixed: /content/Silent-Face-Anti-Spoofing/src/data_io/functional.py\n",
            "Done! All 'collections.Iterable' references have been fixed.\n"
          ]
        }
      ]
    },
    {
      "cell_type": "code",
      "source": [
        "!git add /content/Silent-Face-Anti-Spoofing"
      ],
      "metadata": {
        "colab": {
          "base_uri": "https://localhost:8080/"
        },
        "id": "Z06-eFFRZ6nJ",
        "outputId": "cfc2b62f-c941-49e9-8708-c2e1828963cb"
      },
      "execution_count": 22,
      "outputs": [
        {
          "output_type": "stream",
          "name": "stdout",
          "text": [
            "warning: adding embedded git repository: Silent-Face-Anti-Spoofing\n",
            "\u001b[33mhint: You've added another git repository inside your current repository.\u001b[m\n",
            "\u001b[33mhint: Clones of the outer repository will not contain the contents of\u001b[m\n",
            "\u001b[33mhint: the embedded repository and will not know how to obtain it.\u001b[m\n",
            "\u001b[33mhint: If you meant to add a submodule, use:\u001b[m\n",
            "\u001b[33mhint: \u001b[m\n",
            "\u001b[33mhint: \tgit submodule add <url> Silent-Face-Anti-Spoofing\u001b[m\n",
            "\u001b[33mhint: \u001b[m\n",
            "\u001b[33mhint: If you added this path by mistake, you can remove it from the\u001b[m\n",
            "\u001b[33mhint: index with:\u001b[m\n",
            "\u001b[33mhint: \u001b[m\n",
            "\u001b[33mhint: \tgit rm --cached Silent-Face-Anti-Spoofing\u001b[m\n",
            "\u001b[33mhint: \u001b[m\n",
            "\u001b[33mhint: See \"git help submodule\" for more information.\u001b[m\n"
          ]
        }
      ]
    },
    {
      "cell_type": "code",
      "source": [
        "!git commit -m \"commit pertama\""
      ],
      "metadata": {
        "colab": {
          "base_uri": "https://localhost:8080/"
        },
        "id": "HecDeYVFibuj",
        "outputId": "3ea7a025-5949-43e4-8dc4-d4142fa5ad28"
      },
      "execution_count": 26,
      "outputs": [
        {
          "output_type": "stream",
          "name": "stdout",
          "text": [
            "[master (root-commit) 7c733b3] commit pertama\n",
            " 1 file changed, 1 insertion(+)\n",
            " create mode 160000 Silent-Face-Anti-Spoofing\n"
          ]
        }
      ]
    },
    {
      "cell_type": "code",
      "source": [
        "!git status"
      ],
      "metadata": {
        "colab": {
          "base_uri": "https://localhost:8080/"
        },
        "id": "7tJrKxLeiqSv",
        "outputId": "c3835525-4d5a-4e4d-e184-91bc2109f6f1"
      },
      "execution_count": 36,
      "outputs": [
        {
          "output_type": "stream",
          "name": "stdout",
          "text": [
            "On branch master\n",
            "Changes not staged for commit:\n",
            "  (use \"git add <file>...\" to update what will be committed)\n",
            "  (use \"git restore <file>...\" to discard changes in working directory)\n",
            "  (commit or discard the untracked or modified content in submodules)\n",
            "\t\u001b[31mmodified:   Silent-Face-Anti-Spoofing\u001b[m (modified content, untracked content)\n",
            "\n",
            "Untracked files:\n",
            "  (use \"git add <file>...\" to include in what will be committed)\n",
            "\t\u001b[31m.config/\u001b[m\n",
            "\t\u001b[31msample_data/\u001b[m\n",
            "\t\u001b[31msaved_logs/\u001b[m\n",
            "\n",
            "no changes added to commit (use \"git add\" and/or \"git commit -a\")\n"
          ]
        }
      ]
    },
    {
      "cell_type": "code",
      "source": [
        "!git remote add origin https://github.com/adnanfakhri35/Silent-Face-Anti-Spoofing"
      ],
      "metadata": {
        "id": "oUmcpIMdjXc9"
      },
      "execution_count": 41,
      "outputs": []
    },
    {
      "cell_type": "code",
      "source": [
        "!git push -u origin master"
      ],
      "metadata": {
        "colab": {
          "base_uri": "https://localhost:8080/"
        },
        "id": "cZx8e0nCkAK7",
        "outputId": "16381816-264e-49bf-e021-b2399762cbad"
      },
      "execution_count": 45,
      "outputs": [
        {
          "output_type": "stream",
          "name": "stdout",
          "text": [
            "fatal: could not read Username for 'https://github.com': No such device or address\n"
          ]
        }
      ]
    },
    {
      "cell_type": "code",
      "source": [],
      "metadata": {
        "id": "he4YnU7Kkb9P"
      },
      "execution_count": null,
      "outputs": []
    }
  ]
}